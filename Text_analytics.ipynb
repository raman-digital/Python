{
 "cells": [
  {
   "cell_type": "code",
   "execution_count": 2,
   "metadata": {},
   "outputs": [
    {
     "name": "stderr",
     "output_type": "stream",
     "text": [
      "[nltk_data] Downloading package stopwords to\n",
      "[nltk_data]     C:\\Users\\sjagadeesan\\AppData\\Roaming\\nltk_data...\n",
      "[nltk_data]   Package stopwords is already up-to-date!\n",
      "[nltk_data] Downloading package averaged_perceptron_tagger to\n",
      "[nltk_data]     C:\\Users\\sjagadeesan\\AppData\\Roaming\\nltk_data...\n",
      "[nltk_data]   Package averaged_perceptron_tagger is already up-to-\n",
      "[nltk_data]       date!\n"
     ]
    },
    {
     "data": {
      "text/plain": [
       "True"
      ]
     },
     "execution_count": 2,
     "metadata": {},
     "output_type": "execute_result"
    }
   ],
   "source": [
    "import pandas as pd\n",
    "import numpy as np\n",
    "import nltk\n",
    "import os\n",
    "import nltk.corpus\n",
    "nltk.download('stopwords')\n",
    "nltk.download('averaged_perceptron_tagger')"
   ]
  },
  {
   "cell_type": "code",
   "execution_count": 6,
   "metadata": {},
   "outputs": [],
   "source": [
    "def f_tokenize(arg1):\n",
    "    # importing word_tokenize from nltk\n",
    "       from nltk.tokenize import word_tokenize\n",
    "            # Passing the string text into word tokenize for breaking the sentences\n",
    "       token_var = word_tokenize(text)\n",
    "       return word_tokenize(text.lower());"
   ]
  },
  {
   "cell_type": "code",
   "execution_count": 7,
   "metadata": {},
   "outputs": [],
   "source": [
    "def f_lem_stop(arg1):\n",
    "    # Importing Lemmatizer library from nltk\n",
    "    from nltk.stem import WordNetLemmatizer\n",
    "    lemmatizer = WordNetLemmatizer() \n",
    "    # importing stopwords from nltk library\n",
    "    from nltk import word_tokenize\n",
    "    from nltk.corpus import stopwords\n",
    "    a_stopwords = set(stopwords.words('english'))\n",
    "    stopwords_var = [x for x in arg1 if x not in a_stopwords]\n",
    "    return stopwords_var"
   ]
  },
  {
   "cell_type": "code",
   "execution_count": 8,
   "metadata": {},
   "outputs": [
    {
     "name": "stdout",
     "output_type": "stream",
     "text": [
      " **** Line West Virginia became the 50th state to report a case of the deadly novel coronavirus when Gov. Jim Justice announced the first positive test result Tuesday.\n",
      "\n",
      "[('west', 'NN')]\n",
      "[('virginia', 'NN')]\n",
      "[('became', 'VBD')]\n",
      "[('50th', 'JJ')]\n",
      "[('state', 'NN')]\n",
      "[('report', 'NN')]\n",
      "[('case', 'NN')]\n",
      "[('deadly', 'RB')]\n",
      "[('novel', 'NN')]\n",
      "[('coronavirus', 'NN')]\n",
      "[('gov', 'NN')]\n",
      "[('.', '.')]\n",
      "[('jim', 'NN')]\n",
      "[('justice', 'NN')]\n",
      "[('announced', 'VBD')]\n",
      "[('first', 'RB')]\n",
      "[('positive', 'JJ')]\n",
      "[('test', 'NN')]\n",
      "[('result', 'NN')]\n",
      "[('tuesday', 'NN')]\n",
      "[('.', '.')]\n",
      "[('justice', 'NN')]\n",
      "[('said', 'VBD')]\n",
      "[('case', 'NN')]\n",
      "[('eastern', 'JJ')]\n",
      "[('panhandle', 'NN')]\n",
      "[('state', 'NN')]\n",
      "[(',', ',')]\n",
      "[('gave', 'VBD')]\n",
      "[('details', 'NNS')]\n",
      "[('.', '.')]\n",
      " **** Line The announcement comes just after the death toll from the virus in the United States passed 100, according to a CNN tally of data from state heath officials.\n",
      "\n",
      "[('announcement', 'NN')]\n",
      "[('comes', 'VBZ')]\n",
      "[('death', 'NN')]\n",
      "[('toll', 'NN')]\n",
      "[('virus', 'NN')]\n",
      "[('united', 'JJ')]\n",
      "[('states', 'NNS')]\n",
      "[('passed', 'VBN')]\n",
      "[('100', 'CD')]\n",
      "[(',', ',')]\n",
      "[('according', 'VBG')]\n",
      "[('cnn', 'NN')]\n",
      "[('tally', 'RB')]\n",
      "[('data', 'NNS')]\n",
      "[('state', 'NN')]\n",
      "[('heath', 'NN')]\n",
      "[('officials', 'NNS')]\n",
      "[('.', '.')]\n",
      " **** Line Illinois reported its first death Tuesday, becoming one of 18 states to report the death of a resident who died from the virus in the pandemic.\n",
      "[('illinois', 'NN')]\n",
      "[('reported', 'VBD')]\n",
      "[('first', 'RB')]\n",
      "[('death', 'NN')]\n",
      "[('tuesday', 'NN')]\n",
      "[(',', ',')]\n",
      "[('becoming', 'VBG')]\n",
      "[('one', 'CD')]\n",
      "[('18', 'CD')]\n",
      "[('states', 'NNS')]\n",
      "[('report', 'NN')]\n",
      "[('death', 'NN')]\n",
      "[('resident', 'NN')]\n",
      "[('died', 'VBD')]\n",
      "[('virus', 'NN')]\n",
      "[('pandemic', 'NN')]\n",
      "[('.', '.')]\n"
     ]
    }
   ],
   "source": [
    "# This block reads input from a text file\n",
    "\n",
    "filename = 'c:/385575/nlp/input1.txt'  \n",
    "l =['dead', 'death', 'Deadly']\n",
    "search_words = [item.lower() for item in l]\n",
    "# print(search_words)\n",
    "\n",
    "with open(filename) as fn:  \n",
    "\n",
    "# Read each line\n",
    "   ln = fn.readline()\n",
    "\n",
    "# Keep count of lines\n",
    "   lncnt = 1\n",
    "   while ln:\n",
    "       # print(\"Line {}: {}\".format(lncnt, ln.strip()))\n",
    "       text = ln.strip()\n",
    "       token = f_tokenize(text)     \n",
    "       # print (token)\n",
    "       stopwords = f_lem_stop(token)\n",
    "       # print (stopwords) \n",
    "       \n",
    "       if any(word in stopwords for word in search_words):\n",
    "          print (\" **** Line \"+ln)\n",
    "       for words in stopwords:\n",
    "        print(nltk.pos_tag([words])) \n",
    "       ln = fn.readline()\n",
    "       lncnt += 1"
   ]
  },
  {
   "cell_type": "code",
   "execution_count": 9,
   "metadata": {},
   "outputs": [
    {
     "name": "stdout",
     "output_type": "stream",
     "text": [
      "2\n",
      "\n",
      "[('2', 'CD')]\n",
      "[('3', 'CD')]\n",
      "[('4', 'CD')]\n",
      "[('19', 'CD')]\n",
      "[('25', 'CD')]\n"
     ]
    }
   ],
   "source": [
    "# This block reads input from a text file\n",
    "\n",
    "filename = 'c:/385575/nlp/input2.txt'  \n",
    "new_list = []\n",
    "\n",
    "# print(search_words)\n",
    "\n",
    "with open(filename) as fn:  \n",
    "\n",
    "# Read each line\n",
    "   ln = fn.readline()\n",
    "   new_list.append(ln)\n",
    "   print(ln)\n",
    "\n",
    "# Keep count of lines\n",
    "   lncnt = 1\n",
    "   while ln:\n",
    "       # print(\"Line {}: {}\".format(lncnt, ln.strip()))\n",
    "       text = ln.strip()\n",
    "       token = f_tokenize(text)     \n",
    "       # print (token)\n",
    "       stopwords = f_lem_stop(token)\n",
    "       # print (stopwords) \n",
    "       \n",
    "       if any(word in stopwords for word in search_words):\n",
    "          print (\" **** Line \"+ln)\n",
    "       for words in stopwords:\n",
    "        print(nltk.pos_tag([words])) \n",
    "       ln = fn.readline()\n",
    "       lncnt += 1"
   ]
  }
 ],
 "metadata": {
  "kernelspec": {
   "display_name": "Python 3",
   "language": "python",
   "name": "python3"
  },
  "language_info": {
   "codemirror_mode": {
    "name": "ipython",
    "version": 3
   },
   "file_extension": ".py",
   "mimetype": "text/x-python",
   "name": "python",
   "nbconvert_exporter": "python",
   "pygments_lexer": "ipython3",
   "version": "3.7.4"
  }
 },
 "nbformat": 4,
 "nbformat_minor": 2
}
